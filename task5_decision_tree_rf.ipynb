{
 "cells": [
  {
   "cell_type": "markdown",
   "id": "e0c2733b",
   "metadata": {},
   "source": [
    "# 🧠 Task 5: Decision Tree & Random Forest - Heart Disease Prediction"
   ]
  },
  {
   "cell_type": "markdown",
   "id": "1850bc5b",
   "metadata": {},
   "source": [
    "### 📌 Objective:\n",
    "- Train Decision Tree and Random Forest classifiers\n",
    "- Analyze overfitting, visualize tree\n",
    "- Evaluate using cross-validation"
   ]
  },
  {
   "cell_type": "code",
   "execution_count": null,
   "id": "0c8288c5",
   "metadata": {},
   "outputs": [],
   "source": [
    "\n",
    "import pandas as pd\n",
    "import matplotlib.pyplot as plt\n",
    "import seaborn as sns\n",
    "\n",
    "from sklearn.model_selection import train_test_split, cross_val_score\n",
    "from sklearn.tree import DecisionTreeClassifier, plot_tree\n",
    "from sklearn.ensemble import RandomForestClassifier\n",
    "from sklearn.metrics import accuracy_score, classification_report\n",
    "\n",
    "# Load dataset\n",
    "df = pd.read_csv(\"heart.csv\")\n",
    "df.head()\n"
   ]
  },
  {
   "cell_type": "code",
   "execution_count": null,
   "id": "ad016389",
   "metadata": {},
   "outputs": [],
   "source": [
    "\n",
    "# Basic info\n",
    "print(df.info())\n",
    "print(df.isnull().sum())\n"
   ]
  },
  {
   "cell_type": "code",
   "execution_count": null,
   "id": "4799fa17",
   "metadata": {},
   "outputs": [],
   "source": [
    "\n",
    "# Feature and target split\n",
    "X = df.drop(\"target\", axis=1)\n",
    "y = df[\"target\"]\n",
    "X_train, X_test, y_train, y_test = train_test_split(X, y, test_size=0.2, random_state=42)\n"
   ]
  },
  {
   "cell_type": "code",
   "execution_count": null,
   "id": "666e395f",
   "metadata": {},
   "outputs": [],
   "source": [
    "\n",
    "# Decision Tree\n",
    "dt_model = DecisionTreeClassifier(random_state=42)\n",
    "dt_model.fit(X_train, y_train)\n",
    "y_pred_dt = dt_model.predict(X_test)\n",
    "print(\"Decision Tree Accuracy:\", accuracy_score(y_test, y_pred_dt))\n",
    "print(classification_report(y_test, y_pred_dt))\n"
   ]
  },
  {
   "cell_type": "code",
   "execution_count": null,
   "id": "462f4827",
   "metadata": {},
   "outputs": [],
   "source": [
    "\n",
    "# Visualize Tree\n",
    "plt.figure(figsize=(20, 10))\n",
    "plot_tree(dt_model, filled=True, feature_names=X.columns, class_names=[\"No Disease\", \"Disease\"])\n",
    "plt.title(\"Decision Tree Visualization\")\n",
    "plt.show()\n"
   ]
  },
  {
   "cell_type": "code",
   "execution_count": null,
   "id": "b17f1a0b",
   "metadata": {},
   "outputs": [],
   "source": [
    "\n",
    "# Limited Tree\n",
    "dt_limited = DecisionTreeClassifier(max_depth=3, random_state=42)\n",
    "dt_limited.fit(X_train, y_train)\n",
    "y_pred_limited = dt_limited.predict(X_test)\n",
    "print(\"Limited Depth Accuracy:\", accuracy_score(y_test, y_pred_limited))\n"
   ]
  },
  {
   "cell_type": "code",
   "execution_count": null,
   "id": "04df66c8",
   "metadata": {},
   "outputs": [],
   "source": [
    "\n",
    "# Random Forest\n",
    "rf_model = RandomForestClassifier(n_estimators=100, random_state=42)\n",
    "rf_model.fit(X_train, y_train)\n",
    "y_pred_rf = rf_model.predict(X_test)\n",
    "print(\"Random Forest Accuracy:\", accuracy_score(y_test, y_pred_rf))\n",
    "print(classification_report(y_test, y_pred_rf))\n"
   ]
  },
  {
   "cell_type": "code",
   "execution_count": null,
   "id": "673e5c0e",
   "metadata": {},
   "outputs": [],
   "source": [
    "\n",
    "# Feature Importance\n",
    "importances = rf_model.feature_importances_\n",
    "feat_importance = pd.Series(importances, index=X.columns).sort_values(ascending=False)\n",
    "plt.figure(figsize=(10, 6))\n",
    "sns.barplot(x=feat_importance, y=feat_importance.index)\n",
    "plt.title(\"Feature Importance - Random Forest\")\n",
    "plt.show()\n"
   ]
  },
  {
   "cell_type": "code",
   "execution_count": null,
   "id": "5e1ed788",
   "metadata": {},
   "outputs": [],
   "source": [
    "\n",
    "# Cross-validation\n",
    "cv_scores = cross_val_score(rf_model, X, y, cv=5)\n",
    "print(\"Cross-Validation Scores:\", cv_scores)\n",
    "print(\"Average CV Accuracy:\", cv_scores.mean())\n"
   ]
  }
 ],
 "metadata": {},
 "nbformat": 4,
 "nbformat_minor": 5
}